{
 "cells": [
  {
   "cell_type": "markdown",
   "metadata": {
    "colab_type": "text",
    "id": "c7KtIMUKv1E_"
   },
   "source": [
    "## FastText, ML and NN classification\n",
    "*Student name: Dmitry Timerbaev*"
   ]
  },
  {
   "cell_type": "markdown",
   "metadata": {
    "colab_type": "text",
    "id": "wSmc4xYb9ECS"
   },
   "source": [
    "For this task I will build fasttext classifier first, then two classic ML classfifiers (logistic regression and linear support vector machine) and finally recurrent neural network. My target metric would be ROC-AUC score, because as we will see further the dataset is not imbalanced, and we actually care both about positive and negative reviews. "
   ]
  },
  {
   "cell_type": "code",
   "execution_count": 0,
   "metadata": {
    "colab": {},
    "colab_type": "code",
    "id": "ct5tzMptzaX6"
   },
   "outputs": [],
   "source": [
    "# load libraries\n",
    "import numpy as np \n",
    "import pandas as pd \n",
    "import fasttext\n",
    "import bz2\n",
    "import csv\n",
    "from sklearn.metrics import roc_auc_score\n",
    "from sklearn.model_selection import train_test_split\n",
    "from sklearn.feature_extraction.text import TfidfVectorizer, CountVectorizer\n",
    "from sklearn.metrics import accuracy_score, f1_score, classification_report\n",
    "from sklearn.pipeline import Pipeline\n",
    "from sklearn.svm import LinearSVC\n",
    "from sklearn.linear_model import LogisticRegression\n",
    "from tensorflow.keras.models import Model\n",
    "from tensorflow.keras.layers import LSTM, Activation, Dense, Dropout, Input, Embedding\n",
    "from tensorflow.keras.optimizers import RMSprop\n",
    "from tensorflow.keras.preprocessing.text import Tokenizer\n",
    "from tensorflow.keras.preprocessing import sequence\n",
    "from tensorflow.keras.utils import to_categorical\n",
    "from tensorflow.keras.callbacks import EarlyStopping"
   ]
  },
  {
   "cell_type": "markdown",
   "metadata": {
    "colab_type": "text",
    "id": "6lchnGc27FBT"
   },
   "source": [
    "## FastText Classifier (soft baseline)\n",
    "\n"
   ]
  },
  {
   "cell_type": "code",
   "execution_count": 5,
   "metadata": {
    "colab": {
     "base_uri": "https://localhost:8080/",
     "height": 34
    },
    "colab_type": "code",
    "id": "_dCTjqfdzuix",
    "outputId": "1c0089c7-0a79-4b34-c78f-d4cdba613784"
   },
   "outputs": [
    {
     "name": "stdout",
     "output_type": "stream",
     "text": [
      "3600000\n"
     ]
    }
   ],
   "source": [
    "# load training data and print dataset length\n",
    "data = bz2.BZ2File('train.ft.txt.bz2')\n",
    "data = data.readlines()\n",
    "data = [x.decode('utf-8') for x in data]\n",
    "print(len(data))"
   ]
  },
  {
   "cell_type": "code",
   "execution_count": 0,
   "metadata": {
    "colab": {},
    "colab_type": "code",
    "id": "G0cH73Wn5xwX"
   },
   "outputs": [],
   "source": [
    "# prepare data for further processing - create dataframe and convert to txt\n",
    "data = pd.DataFrame(data)\n",
    "data.to_csv(\"train.txt\", index=False, sep=' ', header=False, quoting=csv.QUOTE_NONE, quotechar=\"\", escapechar=\" \")"
   ]
  },
  {
   "cell_type": "code",
   "execution_count": 7,
   "metadata": {
    "colab": {
     "base_uri": "https://localhost:8080/",
     "height": 34
    },
    "colab_type": "code",
    "id": "dmfeczh-565b",
    "outputId": "0138f0f9-441e-45aa-adcb-2379c3bc2417"
   },
   "outputs": [
    {
     "name": "stdout",
     "output_type": "stream",
     "text": [
      "['__label__1', '__label__2'] are the labels or targets the model is predicting\n"
     ]
    }
   ],
   "source": [
    "# train fasttext model on dataset. print model labels \n",
    "model = fasttext.train_supervised('train.txt',label_prefix='__label__', thread=4, epoch = 10)\n",
    "print(model.labels, 'are the labels or targets the model is predicting')"
   ]
  },
  {
   "cell_type": "code",
   "execution_count": 8,
   "metadata": {
    "colab": {
     "base_uri": "https://localhost:8080/",
     "height": 68
    },
    "colab_type": "code",
    "id": "cY0MHypJ6yEH",
    "outputId": "1e6ba3a4-254a-49d6-f53f-4c459971438e"
   },
   "outputs": [
    {
     "name": "stdout",
     "output_type": "stream",
     "text": [
      "400000 number of records in the test set\n",
      "['__label__2'] is the predicted label\n",
      "['__label__2'] is the probability score\n"
     ]
    }
   ],
   "source": [
    "# load test data and print dataset length\n",
    "test = bz2.BZ2File('test.ft.txt.bz2')\n",
    "test = test.readlines()\n",
    "test = [x.decode('utf-8') for x in test]\n",
    "print(len(test), 'number of records in the test set') \n",
    "\n",
    "# in order to run the predict function, we need to remove the __label__1 and __label__2 from the testset.  \n",
    "new = [w.replace('__label__2 ', '') for w in test]\n",
    "new = [w.replace('__label__1 ', '') for w in new]\n",
    "new = [w.replace('\\n', '') for w in new]\n",
    "\n",
    "# use predict function \n",
    "pred = model.predict(new)\n",
    "\n",
    "# print results of the first record outputs\n",
    "print(pred[0][0], 'is the predicted label')\n",
    "print(pred[0][1], 'is the probability score')"
   ]
  },
  {
   "cell_type": "code",
   "execution_count": 9,
   "metadata": {
    "colab": {
     "base_uri": "https://localhost:8080/",
     "height": 34
    },
    "colab_type": "code",
    "id": "PP0czz5N7A49",
    "outputId": "226443f7-c5fe-449b-b399-c41a727ff5fd"
   },
   "outputs": [
    {
     "name": "stdout",
     "output_type": "stream",
     "text": [
      "0.9173574999999999\n"
     ]
    }
   ],
   "source": [
    "# decode labels into 1's and 0's from both the test set and the actual predictions  \n",
    "labels = [0 if x.split(' ')[0] == '__label__1' else 1 for x in test]\n",
    "pred_labels = [0 if x == ['__label__1'] else 1 for x in pred[0]]\n",
    "\n",
    "# print roc-auc score \n",
    "print(roc_auc_score(labels, pred_labels))"
   ]
  },
  {
   "cell_type": "markdown",
   "metadata": {
    "colab_type": "text",
    "id": "ZDAVIS3x9MmH"
   },
   "source": [
    "## ML Classifiers (hard baseline)\n",
    "Now, I will use two classic machine learning classifiers - logistic regression and support vector machines"
   ]
  },
  {
   "cell_type": "code",
   "execution_count": 0,
   "metadata": {
    "colab": {},
    "colab_type": "code",
    "id": "pwayozM71CeR"
   },
   "outputs": [],
   "source": [
    "# convert test data to txt for further processing\n",
    "test = pd.DataFrame(data)\n",
    "test.to_csv(\"train.txt\", index=False, sep=' ', header=False, quoting=csv.QUOTE_NONE, quotechar=\"\", escapechar=\" \")"
   ]
  },
  {
   "cell_type": "code",
   "execution_count": 0,
   "metadata": {
    "colab": {},
    "colab_type": "code",
    "id": "eeRpofZkFcv7"
   },
   "outputs": [],
   "source": [
    "# data load placeholder\n",
    "data_load = data\n",
    "test_load = test"
   ]
  },
  {
   "cell_type": "code",
   "execution_count": 0,
   "metadata": {
    "colab": {},
    "colab_type": "code",
    "id": "MBWAEvFNFyem"
   },
   "outputs": [],
   "source": [
    "# create labels for train data\n",
    "data_y = data_load\n",
    "data_y = data_y.values.tolist()\n",
    "\n",
    "ytrain = []\n",
    "for i in data_y:\n",
    "    for t in i:\n",
    "        if t[0:10] == '__label__2':\n",
    "            ytrain.append(1)\n",
    "        else:\n",
    "            ytrain.append(0)\n",
    "\n",
    "# create labels for test data\n",
    "test_y = test_load\n",
    "test_y = test_y.values.tolist()\n",
    "\n",
    "ytest = []\n",
    "for i in test_y:\n",
    "    for t in i:\n",
    "        if t[0:10] == '__label__2':\n",
    "            ytest.append(1)\n",
    "        else:\n",
    "            ytest.append(0)"
   ]
  },
  {
   "cell_type": "code",
   "execution_count": 0,
   "metadata": {
    "colab": {},
    "colab_type": "code",
    "id": "iR3pPUg_CcOL"
   },
   "outputs": [],
   "source": [
    "# create train x values (remove __label__ from rows)\n",
    "data_x = data_load\n",
    "data_x.replace(regex=True,inplace=True,to_replace=r'__label__2',value=r'')\n",
    "data_x.replace(regex=True,inplace=True,to_replace=r'__label__1',value=r'')\n",
    "data_x = data_x.values.tolist()\n",
    "\n",
    "data_x_new = []\n",
    "for i in data_x:\n",
    "    string = ' '.join(i)\n",
    "    data_x_new.append(string)\n",
    "\n",
    "# create test x values (remove __label__ from rows)\n",
    "data_xt = test_load\n",
    "data_xt.replace(regex=True,inplace=True,to_replace=r'__label__2',value=r'')\n",
    "data_xt.replace(regex=True,inplace=True,to_replace=r'__label__1',value=r'')\n",
    "data_xt = data_xt.values.tolist()\n",
    "\n",
    "data_xt_new = []\n",
    "for i in data_xt:\n",
    "    string = ' '.join(i)\n",
    "    data_xt_new.append(string)"
   ]
  },
  {
   "cell_type": "code",
   "execution_count": 0,
   "metadata": {
    "colab": {},
    "colab_type": "code",
    "id": "V4yN6enyESxg"
   },
   "outputs": [],
   "source": [
    "# concatenate x and y values into single dataframe\n",
    "d = {'Data': data_x_new, 'Label': ytrain}\n",
    "data_table = pd.DataFrame(data=d)\n",
    "\n",
    "t = {'Data': data_xt_new, 'Label': ytest}\n",
    "test_table = pd.DataFrame(data=t)"
   ]
  },
  {
   "cell_type": "code",
   "execution_count": 16,
   "metadata": {
    "colab": {
     "base_uri": "https://localhost:8080/",
     "height": 204
    },
    "colab_type": "code",
    "id": "T0lMUZk6EHs6",
    "outputId": "5d5c733c-b0e8-4535-dbac-f5e72a6df991"
   },
   "outputs": [
    {
     "data": {
      "text/html": [
       "<div>\n",
       "<style scoped>\n",
       "    .dataframe tbody tr th:only-of-type {\n",
       "        vertical-align: middle;\n",
       "    }\n",
       "\n",
       "    .dataframe tbody tr th {\n",
       "        vertical-align: top;\n",
       "    }\n",
       "\n",
       "    .dataframe thead th {\n",
       "        text-align: right;\n",
       "    }\n",
       "</style>\n",
       "<table border=\"1\" class=\"dataframe\">\n",
       "  <thead>\n",
       "    <tr style=\"text-align: right;\">\n",
       "      <th></th>\n",
       "      <th>Data</th>\n",
       "      <th>Label</th>\n",
       "    </tr>\n",
       "  </thead>\n",
       "  <tbody>\n",
       "    <tr>\n",
       "      <th>0</th>\n",
       "      <td>Stuning even for the non-gamer: This sound tr...</td>\n",
       "      <td>1</td>\n",
       "    </tr>\n",
       "    <tr>\n",
       "      <th>1</th>\n",
       "      <td>The best soundtrack ever to anything.: I'm re...</td>\n",
       "      <td>1</td>\n",
       "    </tr>\n",
       "    <tr>\n",
       "      <th>2</th>\n",
       "      <td>Amazing!: This soundtrack is my favorite musi...</td>\n",
       "      <td>1</td>\n",
       "    </tr>\n",
       "    <tr>\n",
       "      <th>3</th>\n",
       "      <td>Excellent Soundtrack: I truly like this sound...</td>\n",
       "      <td>1</td>\n",
       "    </tr>\n",
       "    <tr>\n",
       "      <th>4</th>\n",
       "      <td>Remember, Pull Your Jaw Off The Floor After H...</td>\n",
       "      <td>1</td>\n",
       "    </tr>\n",
       "  </tbody>\n",
       "</table>\n",
       "</div>"
      ],
      "text/plain": [
       "                                                Data  Label\n",
       "0   Stuning even for the non-gamer: This sound tr...      1\n",
       "1   The best soundtrack ever to anything.: I'm re...      1\n",
       "2   Amazing!: This soundtrack is my favorite musi...      1\n",
       "3   Excellent Soundtrack: I truly like this sound...      1\n",
       "4   Remember, Pull Your Jaw Off The Floor After H...      1"
      ]
     },
     "execution_count": 16,
     "metadata": {
      "tags": []
     },
     "output_type": "execute_result"
    }
   ],
   "source": [
    "# check train data head\n",
    "data_table.head()"
   ]
  },
  {
   "cell_type": "code",
   "execution_count": 0,
   "metadata": {
    "colab": {},
    "colab_type": "code",
    "id": "j2ruzyYGHqt5"
   },
   "outputs": [],
   "source": [
    "# I had to limit the number of rows to 1080k for train and 120k for test because I constantly run out of RAM and notebook crashes\n",
    "X_train = data_table['Data'].iloc[0:1080000]\n",
    "y_train = data_table['Label'].iloc[0:1080000]\n",
    "\n",
    "X_test = test_table['Data'].iloc[0:120000]\n",
    "y_test = test_table['Label'].iloc[0:120000]"
   ]
  },
  {
   "cell_type": "code",
   "execution_count": 23,
   "metadata": {
    "colab": {
     "base_uri": "https://localhost:8080/",
     "height": 153
    },
    "colab_type": "code",
    "id": "My6KXUbVyGzs",
    "outputId": "c816043a-cca2-4c54-8864-5982c9423b8c"
   },
   "outputs": [
    {
     "name": "stdout",
     "output_type": "stream",
     "text": [
      "y_train values count: \n",
      "1    545488\n",
      "0    534512\n",
      "Name: Label, dtype: int64\n",
      "y_test values count: \n",
      "1    60771\n",
      "0    59229\n",
      "Name: Label, dtype: int64\n"
     ]
    }
   ],
   "source": [
    "# check for imbalance in both train and test datasets\n",
    "print('y_train values count: \\n' + str(y_train.value_counts()))\n",
    "print('y_test values count: \\n' + str(y_test.value_counts()))\n",
    "# significant class imbalance is not observed"
   ]
  },
  {
   "cell_type": "code",
   "execution_count": 0,
   "metadata": {
    "colab": {},
    "colab_type": "code",
    "id": "HGnLHYAWLPm_"
   },
   "outputs": [],
   "source": [
    "# set up the TFIDF vectorizer\n",
    "vectorizer = TfidfVectorizer(stop_words=\"english\", ngram_range=(1, 2))\n",
    "training_features = vectorizer.fit_transform(X_train)    \n",
    "test_features = vectorizer.transform(X_test)"
   ]
  },
  {
   "cell_type": "code",
   "execution_count": 0,
   "metadata": {
    "colab": {},
    "colab_type": "code",
    "id": "-mTEe0abLY4a"
   },
   "outputs": [],
   "source": [
    "# build classification pipelines for log-regression and linearSVC\n",
    "\n",
    "pipeline1 = Pipeline([('vect', vectorizer),\n",
    "                     ('clf', LogisticRegression(multi_class='ovr', solver='sag', random_state=42))])\n",
    "\n",
    "pipeline2 = Pipeline([('vect', vectorizer),\n",
    "                     ('clf', LinearSVC(multi_class='ovr', random_state=42))])"
   ]
  },
  {
   "cell_type": "code",
   "execution_count": 0,
   "metadata": {
    "colab": {},
    "colab_type": "code",
    "id": "BrAiMzDULauW"
   },
   "outputs": [],
   "source": [
    "# setting up logistic regression model\n",
    "model_LR = pipeline1.fit(X_train,y_train)"
   ]
  },
  {
   "cell_type": "code",
   "execution_count": 0,
   "metadata": {
    "colab": {},
    "colab_type": "code",
    "id": "LeQJqxHkLm5j"
   },
   "outputs": [],
   "source": [
    "# setting up SVM model\n",
    "model_SVC = pipeline2.fit(X_train,y_train)"
   ]
  },
  {
   "cell_type": "code",
   "execution_count": 0,
   "metadata": {
    "colab": {
     "base_uri": "https://localhost:8080/",
     "height": 187
    },
    "colab_type": "code",
    "id": "-_zgX4vJLy9h",
    "outputId": "4fe5f12e-60a7-42b4-b7f3-0123a561d798"
   },
   "outputs": [
    {
     "name": "stdout",
     "output_type": "stream",
     "text": [
      "              precision    recall  f1-score   support\n",
      "\n",
      "           0       0.94      0.93      0.94     59229\n",
      "           1       0.94      0.94      0.94     60771\n",
      "\n",
      "    accuracy                           0.94    120000\n",
      "   macro avg       0.94      0.94      0.94    120000\n",
      "weighted avg       0.94      0.94      0.94    120000\n",
      "\n",
      "0.9391702163803233\n"
     ]
    }
   ],
   "source": [
    "# classification matrix and f1-score for logistic regression\n",
    "print(classification_report(y_test,model_LR.predict(X_test)))\n",
    "print(f1_score(y_test,model_LR.predict(X_test),average='weighted'))"
   ]
  },
  {
   "cell_type": "code",
   "execution_count": 0,
   "metadata": {
    "colab": {
     "base_uri": "https://localhost:8080/",
     "height": 187
    },
    "colab_type": "code",
    "id": "dkGSzN_7Lzqi",
    "outputId": "04980cf4-64ce-429b-dbff-4a45e478021e"
   },
   "outputs": [
    {
     "name": "stdout",
     "output_type": "stream",
     "text": [
      "              precision    recall  f1-score   support\n",
      "\n",
      "           0       1.00      1.00      1.00     59229\n",
      "           1       1.00      1.00      1.00     60771\n",
      "\n",
      "    accuracy                           1.00    120000\n",
      "   macro avg       1.00      1.00      1.00    120000\n",
      "weighted avg       1.00      1.00      1.00    120000\n",
      "\n",
      "0.9978999845202204\n"
     ]
    }
   ],
   "source": [
    "# classification matrix and f1-score for SVM\n",
    "print(classification_report(y_test,model_SVC.predict(X_test)))\n",
    "print(f1_score(y_test,model_SVC.predict(X_test),average='weighted'))"
   ]
  },
  {
   "cell_type": "code",
   "execution_count": 0,
   "metadata": {
    "colab": {
     "base_uri": "https://localhost:8080/",
     "height": 51
    },
    "colab_type": "code",
    "id": "JlW1aQqEmsW2",
    "outputId": "eb96b35a-75f0-4a32-8f11-53dc5c3d999e"
   },
   "outputs": [
    {
     "name": "stdout",
     "output_type": "stream",
     "text": [
      "Log regression model ROC-AUC score: 0.9391\n",
      "SVM model ROC-AUC score: 0.9979\n"
     ]
    }
   ],
   "source": [
    "# ROC-AUC scores for both classifiers\n",
    "print('Log regression model ROC-AUC score: ' + str(roc_auc_score(y_test, model_LR.predict(X_test)).round(4)))\n",
    "print('SVM model ROC-AUC score: ' + str(roc_auc_score(y_test, model_SVC.predict(X_test)).round(4)))"
   ]
  },
  {
   "cell_type": "markdown",
   "metadata": {
    "colab_type": "text",
    "id": "Gbxu4SA4obe_"
   },
   "source": [
    "## RNN Classifier"
   ]
  },
  {
   "cell_type": "code",
   "execution_count": 0,
   "metadata": {
    "colab": {},
    "colab_type": "code",
    "id": "2zwIKw-5pNBz"
   },
   "outputs": [],
   "source": [
    "# set up the padding for data\n",
    "max_words = 1000\n",
    "max_len = 150\n",
    "tok = Tokenizer(num_words=max_words)\n",
    "tok.fit_on_texts(X_train)\n",
    "sequences = tok.texts_to_sequences(X_train)\n",
    "sequences_matrix = sequence.pad_sequences(sequences,maxlen=max_len)"
   ]
  },
  {
   "cell_type": "code",
   "execution_count": 0,
   "metadata": {
    "colab": {},
    "colab_type": "code",
    "id": "ZOw9IfIRvBDN"
   },
   "outputs": [],
   "source": [
    "# define RNN architecture input layer + embedding + LSTM + 2 dense layers. implement dropouts to reduce possible overfitting\n",
    "def RNN():\n",
    "    inputs = Input(name='inputs',shape=[max_len])\n",
    "    layer = Embedding(max_words,50,input_length=max_len)(inputs)\n",
    "    layer = LSTM(64)(layer)\n",
    "    layer = Dense(256,name='FC1')(layer)\n",
    "    layer = Activation('relu')(layer)\n",
    "    layer = Dropout(0.5)(layer)\n",
    "    layer = Dense(1,name='out_layer')(layer)\n",
    "    layer = Activation('sigmoid')(layer)\n",
    "    model = Model(inputs=inputs,outputs=layer)\n",
    "    return model"
   ]
  },
  {
   "cell_type": "code",
   "execution_count": 0,
   "metadata": {
    "colab": {
     "base_uri": "https://localhost:8080/",
     "height": 425
    },
    "colab_type": "code",
    "id": "JpS6XoeHvil-",
    "outputId": "6868f14c-75c7-470c-f5fc-9920ca8cc2e0"
   },
   "outputs": [
    {
     "name": "stdout",
     "output_type": "stream",
     "text": [
      "Model: \"model_1\"\n",
      "_________________________________________________________________\n",
      "Layer (type)                 Output Shape              Param #   \n",
      "=================================================================\n",
      "inputs (InputLayer)          [(None, 150)]             0         \n",
      "_________________________________________________________________\n",
      "embedding_1 (Embedding)      (None, 150, 50)           50000     \n",
      "_________________________________________________________________\n",
      "lstm_1 (LSTM)                (None, 64)                29440     \n",
      "_________________________________________________________________\n",
      "FC1 (Dense)                  (None, 256)               16640     \n",
      "_________________________________________________________________\n",
      "activation_2 (Activation)    (None, 256)               0         \n",
      "_________________________________________________________________\n",
      "dropout_1 (Dropout)          (None, 256)               0         \n",
      "_________________________________________________________________\n",
      "out_layer (Dense)            (None, 1)                 257       \n",
      "_________________________________________________________________\n",
      "activation_3 (Activation)    (None, 1)                 0         \n",
      "=================================================================\n",
      "Total params: 96,337\n",
      "Trainable params: 96,337\n",
      "Non-trainable params: 0\n",
      "_________________________________________________________________\n"
     ]
    }
   ],
   "source": [
    "# compile the RNN - I've used binary cross entropy as loss function and RMSProp as optimizer\n",
    "model = RNN()\n",
    "model.summary()\n",
    "model.compile(loss='binary_crossentropy',optimizer=RMSprop(),metrics=['accuracy'])"
   ]
  },
  {
   "cell_type": "code",
   "execution_count": 0,
   "metadata": {
    "colab": {
     "base_uri": "https://localhost:8080/",
     "height": 204
    },
    "colab_type": "code",
    "id": "ps5lCtyzvoLq",
    "outputId": "928189bd-3f83-4902-dc65-83d99afb7564"
   },
   "outputs": [
    {
     "name": "stdout",
     "output_type": "stream",
     "text": [
      "Epoch 1/5\n",
      "6750/6750 [==============================] - 282s 42ms/step - loss: 0.2532 - accuracy: 0.8969 - val_loss: 0.2183 - val_accuracy: 0.9126\n",
      "Epoch 2/5\n",
      "6750/6750 [==============================] - 285s 42ms/step - loss: 0.2152 - accuracy: 0.9142 - val_loss: 0.2169 - val_accuracy: 0.9134\n",
      "Epoch 3/5\n",
      "6750/6750 [==============================] - 283s 42ms/step - loss: 0.2019 - accuracy: 0.9203 - val_loss: 0.1993 - val_accuracy: 0.9208\n",
      "Epoch 4/5\n",
      "6750/6750 [==============================] - 281s 42ms/step - loss: 0.1930 - accuracy: 0.9246 - val_loss: 0.1915 - val_accuracy: 0.9240\n",
      "Epoch 5/5\n",
      "6750/6750 [==============================] - 283s 42ms/step - loss: 0.1862 - accuracy: 0.9275 - val_loss: 0.1930 - val_accuracy: 0.9255\n"
     ]
    },
    {
     "data": {
      "text/plain": [
       "<tensorflow.python.keras.callbacks.History at 0x7fc734c19a58>"
      ]
     },
     "execution_count": 32,
     "metadata": {
      "tags": []
     },
     "output_type": "execute_result"
    }
   ],
   "source": [
    "# fit the data to RNN with batch size of 128 and 5 epochs\n",
    "model.fit(sequences_matrix,y_train,batch_size=128,epochs=5,\n",
    "          validation_split=0.2)"
   ]
  },
  {
   "cell_type": "code",
   "execution_count": 0,
   "metadata": {
    "colab": {
     "base_uri": "https://localhost:8080/",
     "height": 85
    },
    "colab_type": "code",
    "id": "SbfnQB0uzd_8",
    "outputId": "32d8494f-8712-4fcf-ac3e-ddb515382ea9"
   },
   "outputs": [
    {
     "name": "stdout",
     "output_type": "stream",
     "text": [
      "3750/3750 [==============================] - 40s 11ms/step - loss: 0.1807 - accuracy: 0.9309\n",
      "Test set\n",
      "  Loss: 0.181\n",
      "  Accuracy: 0.931\n"
     ]
    }
   ],
   "source": [
    "# I can't figure out how to calculate roc-auc score for this model, so I will calculate accuracy instead \n",
    "# should not be crucial since we don't have class imbalance in test sample\n",
    "test_sequences = tok.texts_to_sequences(X_test)\n",
    "test_sequences_matrix = sequence.pad_sequences(test_sequences,maxlen=max_len)\n",
    "accr = model.evaluate(test_sequences_matrix,y_test)\n",
    "print('Test set\\n  Loss: {:0.3f}\\n  Accuracy: {:0.3f}'.format(accr[0],accr[1]))"
   ]
  },
  {
   "cell_type": "markdown",
   "metadata": {
    "colab_type": "text",
    "id": "b5zgSqPo7EYQ"
   },
   "source": [
    "## Evaluation of models"
   ]
  },
  {
   "cell_type": "code",
   "execution_count": 0,
   "metadata": {
    "colab": {
     "base_uri": "https://localhost:8080/",
     "height": 173
    },
    "colab_type": "code",
    "id": "SEaVKZYc7UU7",
    "outputId": "42ccbcf4-0728-4a8e-a117-07dfc1c2ace8"
   },
   "outputs": [
    {
     "data": {
      "text/html": [
       "<div>\n",
       "<style scoped>\n",
       "    .dataframe tbody tr th:only-of-type {\n",
       "        vertical-align: middle;\n",
       "    }\n",
       "\n",
       "    .dataframe tbody tr th {\n",
       "        vertical-align: top;\n",
       "    }\n",
       "\n",
       "    .dataframe thead th {\n",
       "        text-align: right;\n",
       "    }\n",
       "</style>\n",
       "<table border=\"1\" class=\"dataframe\">\n",
       "  <thead>\n",
       "    <tr style=\"text-align: right;\">\n",
       "      <th></th>\n",
       "      <th>Model</th>\n",
       "      <th>Score</th>\n",
       "    </tr>\n",
       "  </thead>\n",
       "  <tbody>\n",
       "    <tr>\n",
       "      <th>0</th>\n",
       "      <td>FastText</td>\n",
       "      <td>0.9174</td>\n",
       "    </tr>\n",
       "    <tr>\n",
       "      <th>1</th>\n",
       "      <td>LogRegression</td>\n",
       "      <td>0.9391</td>\n",
       "    </tr>\n",
       "    <tr>\n",
       "      <th>2</th>\n",
       "      <td>SVM</td>\n",
       "      <td>0.9979</td>\n",
       "    </tr>\n",
       "    <tr>\n",
       "      <th>3</th>\n",
       "      <td>RNN</td>\n",
       "      <td>0.9309</td>\n",
       "    </tr>\n",
       "  </tbody>\n",
       "</table>\n",
       "</div>"
      ],
      "text/plain": [
       "           Model   Score\n",
       "0       FastText  0.9174\n",
       "1  LogRegression  0.9391\n",
       "2            SVM  0.9979\n",
       "3            RNN  0.9309"
      ]
     },
     "execution_count": 34,
     "metadata": {
      "tags": []
     },
     "output_type": "execute_result"
    }
   ],
   "source": [
    "# creating table with classifier names and ROC-AUC scores (except for RNN)\n",
    "models = ['FastText','LogRegression','SVM','RNN']\n",
    "scores = [roc_auc_score(labels, pred_labels).round(4),roc_auc_score(y_test, model_LR.predict(X_test)).round(4),roc_auc_score(y_test, model_SVC.predict(X_test)).round(4),accr[1]]\n",
    "dt = {'Model': models, 'Score': scores}\n",
    "comp_table = pd.DataFrame(data=dt)\n",
    "comp_table"
   ]
  },
  {
   "cell_type": "markdown",
   "metadata": {
    "colab_type": "text",
    "id": "M5hpBWtPEYbl"
   },
   "source": [
    "In this case, SVM model provided the best result. Perhaps, RNN could have performed better if I set up more complex architecture and increased the number of epochs (which I couldn't do due to low computational power of my laptop)."
   ]
  }
 ],
 "metadata": {
  "accelerator": "GPU",
  "colab": {
   "machine_shape": "hm",
   "name": "task3.ipynb",
   "provenance": []
  },
  "kernelspec": {
   "display_name": "Python 3",
   "language": "python",
   "name": "python3"
  },
  "language_info": {
   "codemirror_mode": {
    "name": "ipython",
    "version": 3
   },
   "file_extension": ".py",
   "mimetype": "text/x-python",
   "name": "python",
   "nbconvert_exporter": "python",
   "pygments_lexer": "ipython3",
   "version": "3.7.3"
  },
  "varInspector": {
   "cols": {
    "lenName": 16,
    "lenType": 16,
    "lenVar": 40
   },
   "kernels_config": {
    "python": {
     "delete_cmd_postfix": "",
     "delete_cmd_prefix": "del ",
     "library": "var_list.py",
     "varRefreshCmd": "print(var_dic_list())"
    },
    "r": {
     "delete_cmd_postfix": ") ",
     "delete_cmd_prefix": "rm(",
     "library": "var_list.r",
     "varRefreshCmd": "cat(var_dic_list()) "
    }
   },
   "types_to_exclude": [
    "module",
    "function",
    "builtin_function_or_method",
    "instance",
    "_Feature"
   ],
   "window_display": false
  }
 },
 "nbformat": 4,
 "nbformat_minor": 1
}
